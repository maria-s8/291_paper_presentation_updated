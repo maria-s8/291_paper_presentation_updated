{
  "nbformat": 4,
  "nbformat_minor": 0,
  "metadata": {
    "colab": {
      "provenance": []
    },
    "kernelspec": {
      "name": "python3",
      "display_name": "Python 3"
    },
    "language_info": {
      "name": "python"
    }
  },
  "cells": [
    {
      "cell_type": "code",
      "source": [
        "from google.colab import drive\n",
        "drive.mount('/content/drive')"
      ],
      "metadata": {
        "colab": {
          "base_uri": "https://localhost:8080/"
        },
        "id": "f3YJUYwLYjEx",
        "outputId": "3c093192-5306-4f85-d542-d68d957f3dfe"
      },
      "execution_count": 1,
      "outputs": [
        {
          "output_type": "stream",
          "name": "stdout",
          "text": [
            "Mounted at /content/drive\n"
          ]
        }
      ]
    },
    {
      "cell_type": "code",
      "source": [
        "import sys\n",
        "sys.path.append('/content/drive/MyDrive/preprocess/')"
      ],
      "metadata": {
        "id": "cNVfppTVb_xZ"
      },
      "execution_count": 2,
      "outputs": []
    },
    {
      "cell_type": "code",
      "execution_count": 3,
      "metadata": {
        "id": "HcTBmrxuXJQM"
      },
      "outputs": [],
      "source": [
        "# from preprocess import *\n",
        "import xgboost as xgb\n",
        "from sklearn.model_selection import KFold\n",
        "\n",
        "from sklearn.ensemble import RandomForestRegressor\n",
        "## import linear_model\n",
        "from sklearn.linear_model import LinearRegression\n",
        "\n",
        "import os, time, json, copy, pickle, copy\n",
        "import pandas as pd\n",
        "import numpy as np\n",
        "from multiprocessing import Pool\n",
        "from random import shuffle\n",
        "from stat_ import *"
      ]
    },
    {
      "cell_type": "code",
      "source": [
        "def testing(design_name, xgbr):\n",
        "    feat_label_dir = \"/content/drive/MyDrive/preprocess/feat_label_timing\"\n",
        "\n",
        "\n",
        "    feat_vec, label_vec = [], []\n",
        "    reg_lst = []\n",
        "    with open (f\"{feat_label_dir}/{design_name}_{cmd}{label_cmd}.pkl\", \"rb\") as f:\n",
        "        feat_label_design = pickle.load(f)\n",
        "    for idx, reg_dct in enumerate(feat_label_design):\n",
        "        if idx <= len(feat_label_design) * 0.25:\n",
        "            rank_label = 0\n",
        "        elif len(feat_label_design) * 0.25 < idx <= len(feat_label_design) * 0.5:\n",
        "            rank_label = 1\n",
        "        elif len(feat_label_design) * 0.5 < idx <= len(feat_label_design) * 0.75:\n",
        "            rank_label = 2\n",
        "        else:\n",
        "            rank_label = 3\n",
        "        feat = []\n",
        "        feat.extend(reg_dct[f'feat_design'])\n",
        "        feat.extend(reg_dct[f'feat_path'])\n",
        "        feat_vec.append(feat)\n",
        "        label_vec.append(rank_label)\n",
        "        reg_lst.append(reg_dct['name'])\n",
        "    feat_arr = np.array(feat_vec)\n",
        "    label_arr = np.array(label_vec)\n",
        "\n",
        "    df_feat = pd.DataFrame(feat_arr)\n",
        "    df_label = pd.DataFrame(label_arr)\n",
        "    # print(df_feat)\n",
        "    # print(df_label)\n",
        "    # input()\n",
        "    pred = xgbr.predict(df_feat).flatten()\n",
        "\n",
        "\n",
        "\n",
        "    cover = coverage_rank_num(pred, label_arr)\n",
        "    cover_all_lst.append(cover)\n",
        "\n",
        "\n",
        "\n",
        "def training(train_lst):\n",
        "    feat_label_dir = \"/content/drive/MyDrive/preprocess/feat_label_timing\"\n",
        "    feat_vec, label_vec = [], []\n",
        "    group_all = []\n",
        "    for design_name in train_lst:\n",
        "        # feat_vec, label_vec = [], []\n",
        "        with open (f\"{feat_label_dir}/{design_name}_{cmd}{label_cmd}.pkl\", \"rb\") as f:\n",
        "            feat_label_design = pickle.load(f)\n",
        "        for idx, reg_dct in enumerate(feat_label_design):\n",
        "            if idx <= len(feat_label_design) * 0.25:\n",
        "                rank_label = 0\n",
        "            elif len(feat_label_design) * 0.25 < idx <= len(feat_label_design) * 0.5:\n",
        "                rank_label = 1\n",
        "            elif len(feat_label_design) * 0.5 < idx <= len(feat_label_design) * 0.75:\n",
        "                rank_label = 2\n",
        "            else:\n",
        "                rank_label = 3\n",
        "            feat = []\n",
        "            feat.extend(reg_dct[f'feat_design'])\n",
        "            feat.extend(reg_dct[f'feat_path'])\n",
        "            # print(len(feat))\n",
        "\n",
        "            feat_vec.append(feat)\n",
        "            label_vec.append(rank_label)\n",
        "        group_all.append(len(feat_label_design))\n",
        "\n",
        "    feat_arr = np.array(feat_vec)\n",
        "    label_arr = np.array(label_vec)\n",
        "\n",
        "    feat_arr = np.array(feat_vec)\n",
        "    label_arr = np.array(label_vec)\n",
        "\n",
        "    df_feat = pd.DataFrame(feat_arr)\n",
        "    df_label = pd.DataFrame(label_arr)\n",
        "    print(df_feat.shape, df_label.shape)\n",
        "\n",
        "    # xgbr = xgb.XGBRegressor(n_estimators=500, max_depth=50, nthread=25)\n",
        "\n",
        "    ranker = xgb.XGBRanker(\n",
        "                            tree_method='hist',\n",
        "                            device=\"cuda\",\n",
        "                            booster='gbtree',\n",
        "                            objective='rank:pairwise',\n",
        "                            random_state=42,\n",
        "                            learning_rate=0.1,\n",
        "                            colsample_bytree=0.9,\n",
        "                            eta=0.05,\n",
        "                            max_depth=30,\n",
        "                            n_estimators=100,\n",
        "                            subsample=0.75\n",
        "                            )\n",
        "    groups = np.array(group_all).reshape(-1, 1)\n",
        "    print(groups.shape)\n",
        "    grp_sum = np.sum(groups)\n",
        "    print(f\"Total groups: {grp_sum}\")\n",
        "    ranker.fit(df_feat, df_label, group=group_all)\n",
        "\n",
        "    return ranker\n",
        "\n",
        "\n",
        "def k_fold(design_lst):\n",
        "\n",
        "\n",
        "    print(len(design_lst))\n",
        "\n",
        "    for design in design_lst:\n",
        "        print(f\"Design {design} ...\")\n",
        "        ## rest_lst = copy.deepcopy(design_lst)\n",
        "        rest_lst = design_lst.copy()\n",
        "        #rest_lst.remove(design)\n",
        "        print(f\"Training ...\")\n",
        "        xgbr = training(rest_lst)\n",
        "        print(f\"Testing ...\")\n",
        "        testing(design, xgbr)\n",
        "\n",
        "\n",
        "\n",
        "\n",
        "\n",
        "if __name__ == '__main__':\n",
        "\n",
        "\n",
        "    ## ========= change the power type here =========\n",
        "    global cmd, label_cmd\n",
        "\n",
        "    ## ------ 1. BOG type (default: SOG) ------\n",
        "    cmd = 'sog'\n",
        "    # cmd = \"xag\"\n",
        "    # cmd = \"aig\"\n",
        "    # cmd = \"aimg\"\n",
        "\n",
        "    ## ------ 2. label stage (init: bit-level post-syn, route: bit-level post-layout) ------\n",
        "    ## ------ (init_word: signal-level post-syn, route_word: signal-level post-layout) ------\n",
        "    # label_cmd = \"_init\"\n",
        "    # label_cmd = \"_route\"\n",
        "    # label_cmd = \"_init_word\"\n",
        "    label_cmd = \"_route_word\"\n",
        "\n",
        "    global cover_all_lst\n",
        "    cover_all_lst = []\n",
        "\n",
        "    #with open (\"./design_js/design_lst.json\", \"r\") as f:\n",
        "        #design_lst = json.load(f)\n",
        "\n",
        "    design_lst = [\"TinyRocket\"]\n",
        "    k_fold(design_lst)\n",
        "\n",
        "    cover_avg = round(np.mean(cover_all_lst), 2)\n",
        "    print(f\"Average Coverage: {cover_avg}%\")"
      ],
      "metadata": {
        "colab": {
          "base_uri": "https://localhost:8080/"
        },
        "id": "8iYJF0JmXOXf",
        "outputId": "9143f225-4665-424c-f92c-4fc8fcc0fc95"
      },
      "execution_count": 5,
      "outputs": [
        {
          "output_type": "stream",
          "name": "stdout",
          "text": [
            "1\n",
            "Design TinyRocket ...\n",
            "Training ...\n",
            "(166, 24) (166, 1)\n",
            "(1, 1)\n",
            "Total groups: 166\n",
            "Testing ...\n",
            "pred_rank_lst: [1, 1, 1, 1, 1, 1, 1, 1, 1, 1, 1, 1, 1, 1, 2, 2, 2, 2, 2, 2, 2, 2, 2, 2, 2, 2, 2, 2, 2, 2, 2, 2, 2, 2, 2, 2, 1, 0, 2, 0, 0, 0, 0, 0, 1, 0, 0, 0, 1, 0, 0, 0, 0, 1, 0, 0, 1, 1, 2, 0, 0, 1, 1, 0, 1, 0, 0, 0, 2, 1, 0, 0, 0, 1, 0, 0, 0, 0, 0, 0, 2, 2, 0, 2, 1, 0, 1, 0, 0, 0, 1, 0, 2, 0, 1, 1, 0, 1, 1, 0, 1, 2, 1, 2, 2, 0, 0, 1, 1, 1, 1, 2, 3, 3, 1, 1, 1, 2, 2, 2, 2, 2, 2, 3, 3, 2, 3, 3, 3, 3, 2, 3, 3, 3, 3, 3, 3, 3, 3, 3, 3, 3, 3, 3, 3, 3, 3, 3, 3, 3, 3, 3, 3, 3, 3, 3, 3, 3, 3, 3, 3, 3, 3, 3, 3, 3]\n",
            "real_rank_lst: [0 0 0 0 0 0 0 0 0 0 0 0 0 0 0 0 0 0 0 0 0 0 0 0 0 0 0 0 0 0 0 0 0 0 0 0 0\n",
            " 0 0 0 0 0 1 1 1 1 1 1 1 1 1 1 1 1 1 1 1 1 1 1 1 1 1 1 1 1 1 1 1 1 1 1 1 1\n",
            " 1 1 1 1 1 1 1 1 1 1 2 2 2 2 2 2 2 2 2 2 2 2 2 2 2 2 2 2 2 2 2 2 2 2 2 2 2\n",
            " 2 2 2 2 2 2 2 2 2 2 2 2 2 2 3 3 3 3 3 3 3 3 3 3 3 3 3 3 3 3 3 3 3 3 3 3 3\n",
            " 3 3 3 3 3 3 3 3 3 3 3 3 3 3 3 3 3 3]\n",
            "Coverage for rank 0: 0.09523809523809523\n",
            "Coverage for rank 1: 0.23809523809523808\n",
            "Coverage for rank 2: 0.2682926829268293\n",
            "Coverage for rank 3: 0.9512195121951219\n",
            "Coverage: 39.0%\n",
            "Average Coverage: 39.0%\n"
          ]
        },
        {
          "output_type": "stream",
          "name": "stderr",
          "text": [
            "/usr/local/lib/python3.11/dist-packages/xgboost/core.py:158: UserWarning: [22:23:41] WARNING: /workspace/src/context.cc:43: No visible GPU is found, setting device to CPU.\n",
            "  warnings.warn(smsg, UserWarning)\n",
            "/usr/local/lib/python3.11/dist-packages/xgboost/core.py:158: UserWarning: [22:23:41] WARNING: /workspace/src/context.cc:196: XGBoost is not compiled with CUDA support.\n",
            "  warnings.warn(smsg, UserWarning)\n"
          ]
        }
      ]
    },
    {
      "cell_type": "code",
      "source": [],
      "metadata": {
        "id": "q84v6NHIesf9"
      },
      "execution_count": null,
      "outputs": []
    }
  ]
}